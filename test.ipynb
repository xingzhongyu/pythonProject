{
 "cells": [
  {
   "cell_type": "code",
   "execution_count": 4,
   "metadata": {
    "collapsed": true
   },
   "outputs": [
    {
     "name": "stdout",
     "output_type": "stream",
     "text": [
      "Parameter containing:\n",
      "tensor([[ 0.0104,  0.0088],\n",
      "        [ 0.0063,  0.0203],\n",
      "        [-0.0020, -0.0032]], requires_grad=True)\n",
      "Parameter containing:\n",
      "tensor([[-0.0020, -0.0055,  0.0039]], requires_grad=True)\n"
     ]
    }
   ],
   "source": [
    "import torch\n",
    "from torch.nn.parameter import Parameter\n",
    "\n",
    "m = torch.nn.Linear(2,3)  #定义权重层大小\n",
    "w=torch.normal(0, 0.01, size=(3,2), requires_grad=True)     #生成与权重大小相同的tensor\n",
    "b=torch.normal(0,0.01,size=(1,3),requires_grad=True)\n",
    "m.weight = Parameter(w)   #w类型转换后赋值给权重，这里的类型转换是必要的，不能直接 m.weight = torch.normal(0, 0.01, size=(3,2), requires_grad=True)\n",
    "m.bias=Parameter(b)\n",
    "print(m.weight)\n",
    "print(m.bias)\n"
   ]
  },
  {
   "cell_type": "code",
   "execution_count": 3,
   "outputs": [],
   "source": [],
   "metadata": {
    "collapsed": false
   }
  },
  {
   "cell_type": "code",
   "execution_count": null,
   "outputs": [],
   "source": [],
   "metadata": {
    "collapsed": false
   }
  }
 ],
 "metadata": {
  "kernelspec": {
   "display_name": "Python 3",
   "language": "python",
   "name": "python3"
  },
  "language_info": {
   "codemirror_mode": {
    "name": "ipython",
    "version": 2
   },
   "file_extension": ".py",
   "mimetype": "text/x-python",
   "name": "python",
   "nbconvert_exporter": "python",
   "pygments_lexer": "ipython2",
   "version": "2.7.6"
  }
 },
 "nbformat": 4,
 "nbformat_minor": 0
}
